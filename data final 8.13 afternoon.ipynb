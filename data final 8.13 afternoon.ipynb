version https://git-lfs.github.com/spec/v1
oid sha256:e0142495be3e6cd9b1c03c6ce609e0ec3d5caef383859dd7557341c8a9914b54
size 51762857
